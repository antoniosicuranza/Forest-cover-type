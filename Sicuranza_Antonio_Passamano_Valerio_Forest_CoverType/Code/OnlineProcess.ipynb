{
 "cells": [
  {
   "cell_type": "code",
   "execution_count": 44,
   "metadata": {},
   "outputs": [],
   "source": [
    "%matplotlib notebook"
   ]
  },
  {
   "cell_type": "code",
   "execution_count": 45,
   "metadata": {},
   "outputs": [],
   "source": [
    "from skmultiflow.data import FileStream\n",
    "from skmultiflow.data import SEAGenerator\n",
    "from skmultiflow.evaluation import EvaluatePrequential\n",
    "from skmultiflow.meta import OzaBaggingClassifier\n",
    "from skmultiflow.meta import LeveragingBaggingClassifier\n",
    "from skmultiflow.trees import HoeffdingTreeClassifier\n",
    "from skmultiflow.trees import HoeffdingAdaptiveTreeClassifier\n",
    "from skmultiflow.trees import HoeffdingAdaptiveTreeClassifier\n",
    "from skmultiflow.drift_detection import ADWIN\n",
    "from sklearn.linear_model import SGDClassifier\n",
    "import numpy as np\n",
    "import matplotlib.pyplot as plt\n",
    "import pandas as pd\n",
    "from skmultiflow.lazy import KNNADWINClassifier\n",
    "from skmultiflow.lazy import KNNClassifier\n",
    "from skmultiflow.meta import OzaBaggingADWINClassifier\n",
    "from skmultiflow.drift_detection.adwin import ADWIN\n",
    "import csv\n",
    "from skmultiflow.transform.windowed_standard_scaler import WindowedStandardScaler\n",
    "from skmultiflow.meta import AccuracyWeightedEnsembleClassifier\n",
    "from skmultiflow.meta import OnlineAdaC2Classifier\n",
    "from skmultiflow.meta.learn_pp import LearnPPClassifier\n",
    "from skmultiflow.meta import AdditiveExpertEnsembleClassifier\n",
    "from skmultiflow.meta import BatchIncrementalClassifier\n",
    "from skmultiflow.meta import DynamicWeightedMajorityClassifier\n",
    "from skmultiflow.meta.learn_pp import LearnPPClassifier\n",
    "from skmultiflow.trees import ExtremelyFastDecisionTreeClassifier\n",
    "from skmultiflow.meta import StreamingRandomPatchesClassifier\n",
    "from skmultiflow.lazy import SAMKNNClassifier"
   ]
  },
  {
   "cell_type": "code",
   "execution_count": 46,
   "metadata": {},
   "outputs": [],
   "source": [
    "stream = FileStream(\"covtype.csv\")"
   ]
  },
  {
   "cell_type": "code",
   "execution_count": 16,
   "metadata": {},
   "outputs": [],
   "source": [
    "classifier1 = OzaBaggingClassifier(base_estimator=HoeffdingTreeClassifier(),\n",
    "                                n_estimators=10)"
   ]
  },
  {
   "cell_type": "code",
   "execution_count": 47,
   "metadata": {},
   "outputs": [],
   "source": [
    "classifier2 = SAMKNNClassifier(n_neighbors=5, weighting='distance', max_window_size=5000,\n",
    "                              stm_size_option='maxACCApprox', use_ltm=True)"
   ]
  },
  {
   "cell_type": "code",
   "execution_count": null,
   "metadata": {},
   "outputs": [],
   "source": [
    "classifier3 = StreamingRandomPatchesClassifier(random_state=1,\n",
    "                                             n_estimators=3)"
   ]
  },
  {
   "cell_type": "code",
   "execution_count": 48,
   "metadata": {},
   "outputs": [],
   "source": [
    "eval = EvaluatePrequential(show_plot=True, max_samples=2000000,metrics=['accuracy','kappa','f1','precision','recall'])"
   ]
  },
  {
   "cell_type": "code",
   "execution_count": null,
   "metadata": {},
   "outputs": [],
   "source": [
    "eval.evaluate(stream = stream, model = classifier1, model_names=['SAMKNNClassifier']);"
   ]
  },
  {
   "cell_type": "code",
   "execution_count": null,
   "metadata": {},
   "outputs": [],
   "source": [
    "eval.evaluate(stream = stream, model = classifier2, model_names=['OzaBaggingClassifier']);"
   ]
  },
  {
   "cell_type": "code",
   "execution_count": null,
   "metadata": {},
   "outputs": [],
   "source": [
    "eval.evaluate(stream = stream, model = classifier3, model_names=['StreamingRandomPatchesClassifier']);"
   ]
  }
 ],
 "metadata": {
  "kernelspec": {
   "display_name": "Python 3",
   "language": "python",
   "name": "python3"
  },
  "language_info": {
   "codemirror_mode": {
    "name": "ipython",
    "version": 3
   },
   "file_extension": ".py",
   "mimetype": "text/x-python",
   "name": "python",
   "nbconvert_exporter": "python",
   "pygments_lexer": "ipython3",
   "version": "3.7.9"
  }
 },
 "nbformat": 4,
 "nbformat_minor": 4
}
