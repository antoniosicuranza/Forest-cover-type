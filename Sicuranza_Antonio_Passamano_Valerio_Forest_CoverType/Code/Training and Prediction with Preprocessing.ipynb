{
 "cells": [
  {
   "cell_type": "code",
   "execution_count": 5,
   "metadata": {},
   "outputs": [],
   "source": [
    "import numpy as np\n",
    "import pandas as pd\n",
    "import matplotlib.pyplot as plt\n",
    "import seaborn as sns\n",
    "from sklearn.preprocessing import StandardScaler\n",
    "from sklearn.model_selection import train_test_split\n",
    "from sklearn.linear_model import LogisticRegression\n",
    "from sklearn.metrics import confusion_matrix, classification_report\n",
    "from skmultiflow.lazy import SAMKNNClassifier\n",
    "from skmultiflow.data import FileStream\n",
    "from skmultiflow.meta import StreamingRandomPatchesClassifier\n",
    "from skmultiflow.trees import HoeffdingTreeClassifier\n",
    "from skmultiflow.meta import OzaBaggingClassifier\n",
    "from skmultiflow.meta import StreamingRandomPatchesClassifier\n",
    "from sklearn.metrics import f1_score\n",
    "from sklearn.metrics import accuracy_score\n",
    "from sklearn.metrics import recall_score\n",
    "from sklearn.metrics import cohen_kappa_score\n",
    "from sklearn.metrics import precision_score"
   ]
  },
  {
   "cell_type": "markdown",
   "metadata": {},
   "source": [
    "# Imbalanced With Scaling StreamingRandomPatchesClassifier"
   ]
  },
  {
   "cell_type": "code",
   "execution_count": 32,
   "metadata": {},
   "outputs": [],
   "source": [
    "stream = FileStream(\"imbalanced.csv\")"
   ]
  },
  {
   "cell_type": "code",
   "execution_count": 33,
   "metadata": {},
   "outputs": [],
   "source": [
    "clf = StreamingRandomPatchesClassifier(random_state=1,\n",
    "                                             n_estimators=3)"
   ]
  },
  {
   "cell_type": "code",
   "execution_count": 35,
   "metadata": {},
   "outputs": [],
   "source": [
    "X, y = stream.next_sample(200)\n",
    "clf = clf.partial_fit(X, y, classes=stream.target_values)"
   ]
  },
  {
   "cell_type": "code",
   "execution_count": 36,
   "metadata": {},
   "outputs": [],
   "source": [
    "remain = stream.n_remaining_samples()"
   ]
  },
  {
   "cell_type": "code",
   "execution_count": 37,
   "metadata": {},
   "outputs": [],
   "source": [
    "sample_count = 0\n",
    "corrects = 0\n",
    "j = 0\n",
    "y_test = []\n",
    "y_pred = []\n",
    "for i in range(remain):\n",
    "    X, y = stream.next_sample()\n",
    "    pred = clf.predict(X)\n",
    "    clf = clf.partial_fit(X, y)\n",
    "    if pred is not None:\n",
    "        y_test.append(y[0])\n",
    "        y_pred.append(pred[0])\n",
    "        j = j + 1\n",
    "        if y[0] == pred[0]:\n",
    "            corrects += 1\n",
    "    sample_count += 1"
   ]
  },
  {
   "cell_type": "code",
   "execution_count": 27,
   "metadata": {},
   "outputs": [],
   "source": [
    "model_acc = accuracy_score(y_test, y_pred)"
   ]
  },
  {
   "cell_type": "code",
   "execution_count": null,
   "metadata": {},
   "outputs": [],
   "source": [
    "f1_score = f1_score(y_test, y_pred)"
   ]
  },
  {
   "cell_type": "code",
   "execution_count": null,
   "metadata": {},
   "outputs": [],
   "source": [
    "recall_score = recall_score(y_test, y_pred)"
   ]
  },
  {
   "cell_type": "code",
   "execution_count": null,
   "metadata": {},
   "outputs": [],
   "source": [
    "precision_score = precision_score(y_test, y_pred)"
   ]
  },
  {
   "cell_type": "code",
   "execution_count": null,
   "metadata": {},
   "outputs": [],
   "source": [
    "kappa = cohen_kappa_score(y_test, y_pred)"
   ]
  },
  {
   "cell_type": "code",
   "execution_count": null,
   "metadata": {},
   "outputs": [],
   "source": [
    "print(\"Accuracy ({}): {:.2f}%\".format(\"imblanced\", model_acc))\n",
    "print(\"F1_score ({}): {:.2f}%\".format(\"imblanced\", f1_score))\n",
    "print(\"Recall_score ({}): {:.2f}%\".format(\"imblanced\", recall_score))\n",
    "print(\"Precision_score ({}): {:.2f}%\".format(\"imblanced\", precision_score))\n",
    "print(\"Kappa ({}): {:.2f}%\".format(\"imblanced\", kappa))\n",
    "cm = confusion_matrix(y_test, y_pred)\n",
    "clr = classification_report(y_test, y_pred)\n",
    "plt.figure(figsize=(8, 8))\n",
    "sns.heatmap(cm, annot=True, fmt='g',vmin = 0, cbar = False, cmap = 'Blues')\n",
    "plt.xlabel('Predicted')\n",
    "plt.ylabel('Actual')\n",
    "plt.title('Confusion Matrix')\n",
    "plt.show()\n",
    "print('Classificatione Report \\n..................\\n', clr)"
   ]
  },
  {
   "cell_type": "markdown",
   "metadata": {},
   "source": [
    "# Imbalanced With Scaling SAMKNNClassifier"
   ]
  },
  {
   "cell_type": "code",
   "execution_count": null,
   "metadata": {},
   "outputs": [],
   "source": [
    "stream = FileStream(\"imbalanced.csv\")"
   ]
  },
  {
   "cell_type": "code",
   "execution_count": 34,
   "metadata": {},
   "outputs": [],
   "source": [
    "clf = SAMKNNClassifier(n_neighbors=5, weighting='distance', max_window_size=5000,\n",
    "                              stm_size_option='maxACCApprox', use_ltm=True)"
   ]
  },
  {
   "cell_type": "code",
   "execution_count": 35,
   "metadata": {},
   "outputs": [],
   "source": [
    "X, y = stream.next_sample(200)\n",
    "clf = clf.partial_fit(X, y, classes=stream.target_values)"
   ]
  },
  {
   "cell_type": "code",
   "execution_count": 36,
   "metadata": {},
   "outputs": [],
   "source": [
    "remain = stream.n_remaining_samples()"
   ]
  },
  {
   "cell_type": "code",
   "execution_count": 37,
   "metadata": {},
   "outputs": [],
   "source": [
    "sample_count = 0\n",
    "corrects = 0\n",
    "j = 0\n",
    "y_test = []\n",
    "y_pred = []\n",
    "for i in range(remain):\n",
    "    X, y = stream.next_sample()\n",
    "    pred = clf.predict(X)\n",
    "    clf = clf.partial_fit(X, y)\n",
    "    if pred is not None:\n",
    "        y_test.append(y[0])\n",
    "        y_pred.append(pred[0])\n",
    "        j = j + 1\n",
    "        if y[0] == pred[0]:\n",
    "            corrects += 1\n",
    "    sample_count += 1"
   ]
  },
  {
   "cell_type": "code",
   "execution_count": 27,
   "metadata": {},
   "outputs": [],
   "source": [
    "model_acc = accuracy_score(y_test, y_pred)"
   ]
  },
  {
   "cell_type": "code",
   "execution_count": null,
   "metadata": {},
   "outputs": [],
   "source": [
    "f1_score = f1_score(y_test, y_pred)"
   ]
  },
  {
   "cell_type": "code",
   "execution_count": null,
   "metadata": {},
   "outputs": [],
   "source": [
    "recall_score = recall_score(y_test, y_pred)"
   ]
  },
  {
   "cell_type": "code",
   "execution_count": null,
   "metadata": {},
   "outputs": [],
   "source": [
    "precision_score = precision_score(y_test, y_pred)"
   ]
  },
  {
   "cell_type": "code",
   "execution_count": null,
   "metadata": {},
   "outputs": [],
   "source": [
    "kappa = cohen_kappa_score(y_test, y_pred)"
   ]
  },
  {
   "cell_type": "code",
   "execution_count": null,
   "metadata": {},
   "outputs": [],
   "source": [
    "print(\"Accuracy ({}): {:.2f}%\".format(\"imblanced\", model_acc))\n",
    "print(\"F1_score ({}): {:.2f}%\".format(\"imblanced\", f1_score))\n",
    "print(\"Recall_score ({}): {:.2f}%\".format(\"imblanced\", recall_score))\n",
    "print(\"Precision_score ({}): {:.2f}%\".format(\"imblanced\", precision_score))\n",
    "print(\"Kappa ({}): {:.2f}%\".format(\"imblanced\", kappa))\n",
    "cm = confusion_matrix(y_test, y_pred)\n",
    "clr = classification_report(y_test, y_pred)\n",
    "plt.figure(figsize=(8, 8))\n",
    "sns.heatmap(cm, annot=True, fmt='g',vmin = 0, cbar = False, cmap = 'Blues')\n",
    "plt.xlabel('Predicted')\n",
    "plt.ylabel('Actual')\n",
    "plt.title('Confusion Matrix')\n",
    "plt.show()\n",
    "print('Classificatione Report \\n..................\\n', clr)"
   ]
  },
  {
   "cell_type": "markdown",
   "metadata": {},
   "source": [
    "# Imbalanced With Scaling OzaBaggingClassifier"
   ]
  },
  {
   "cell_type": "code",
   "execution_count": 32,
   "metadata": {},
   "outputs": [],
   "source": [
    "stream = FileStream(\"imbalanced.csv\")"
   ]
  },
  {
   "cell_type": "code",
   "execution_count": 33,
   "metadata": {},
   "outputs": [],
   "source": [
    "clf = OzaBaggingClassifier(base_estimator=HoeffdingTreeClassifier(),\n",
    "                                n_estimators=10)"
   ]
  },
  {
   "cell_type": "code",
   "execution_count": 35,
   "metadata": {},
   "outputs": [],
   "source": [
    "X, y = stream.next_sample(200)\n",
    "clf = clf.partial_fit(X, y, classes=stream.target_values)"
   ]
  },
  {
   "cell_type": "code",
   "execution_count": 36,
   "metadata": {},
   "outputs": [],
   "source": [
    "remain = stream.n_remaining_samples()"
   ]
  },
  {
   "cell_type": "code",
   "execution_count": 37,
   "metadata": {},
   "outputs": [],
   "source": [
    "sample_count = 0\n",
    "corrects = 0\n",
    "j = 0\n",
    "y_test = []\n",
    "y_pred = []\n",
    "for i in range(remain):\n",
    "    X, y = stream.next_sample()\n",
    "    pred = clf.predict(X)\n",
    "    clf = clf.partial_fit(X, y)\n",
    "    if pred is not None:\n",
    "        y_test.append(y[0])\n",
    "        y_pred.append(pred[0])\n",
    "        j = j + 1\n",
    "        if y[0] == pred[0]:\n",
    "            corrects += 1\n",
    "    sample_count += 1"
   ]
  },
  {
   "cell_type": "code",
   "execution_count": 27,
   "metadata": {},
   "outputs": [],
   "source": [
    "model_acc = accuracy_score(y_test, y_pred)"
   ]
  },
  {
   "cell_type": "code",
   "execution_count": null,
   "metadata": {},
   "outputs": [],
   "source": [
    "f1_score = f1_score(y_test, y_pred)"
   ]
  },
  {
   "cell_type": "code",
   "execution_count": null,
   "metadata": {},
   "outputs": [],
   "source": [
    "recall_score = recall_score(y_test, y_pred)"
   ]
  },
  {
   "cell_type": "code",
   "execution_count": null,
   "metadata": {},
   "outputs": [],
   "source": [
    "precision_score = precision_score(y_test, y_pred)"
   ]
  },
  {
   "cell_type": "code",
   "execution_count": null,
   "metadata": {},
   "outputs": [],
   "source": [
    "kappa = cohen_kappa_score(y_test, y_pred)"
   ]
  },
  {
   "cell_type": "code",
   "execution_count": null,
   "metadata": {},
   "outputs": [],
   "source": [
    "print(\"Accuracy ({}): {:.2f}%\".format(\"imblanced\", model_acc))\n",
    "print(\"F1_score ({}): {:.2f}%\".format(\"imblanced\", f1_score))\n",
    "print(\"Recall_score ({}): {:.2f}%\".format(\"imblanced\", recall_score))\n",
    "print(\"Precision_score ({}): {:.2f}%\".format(\"imblanced\", precision_score))\n",
    "print(\"Kappa ({}): {:.2f}%\".format(\"imblanced\", kappa))\n",
    "cm = confusion_matrix(y_test, y_pred)\n",
    "clr = classification_report(y_test, y_pred)\n",
    "plt.figure(figsize=(8, 8))\n",
    "sns.heatmap(cm, annot=True, fmt='g',vmin = 0, cbar = False, cmap = 'Blues')\n",
    "plt.xlabel('Predicted')\n",
    "plt.ylabel('Actual')\n",
    "plt.title('Confusion Matrix')\n",
    "plt.show()\n",
    "print('Classificatione Report \\n..................\\n', clr)"
   ]
  },
  {
   "cell_type": "markdown",
   "metadata": {},
   "source": [
    "# Oversampled OzaBaggingClassifier"
   ]
  },
  {
   "cell_type": "code",
   "execution_count": 32,
   "metadata": {},
   "outputs": [],
   "source": [
    "stream = FileStream(\"oversampled.csv\")"
   ]
  },
  {
   "cell_type": "code",
   "execution_count": 33,
   "metadata": {},
   "outputs": [],
   "source": [
    "clf = OzaBaggingClassifier(base_estimator=HoeffdingTreeClassifier(),\n",
    "                                n_estimators=10)"
   ]
  },
  {
   "cell_type": "code",
   "execution_count": 35,
   "metadata": {},
   "outputs": [],
   "source": [
    "X, y = stream.next_sample(200)\n",
    "clf = clf.partial_fit(X, y, classes=stream.target_values)"
   ]
  },
  {
   "cell_type": "code",
   "execution_count": 36,
   "metadata": {},
   "outputs": [],
   "source": [
    "remain = stream.n_remaining_samples()"
   ]
  },
  {
   "cell_type": "code",
   "execution_count": 37,
   "metadata": {},
   "outputs": [],
   "source": [
    "sample_count = 0\n",
    "corrects = 0\n",
    "j = 0\n",
    "y_test = []\n",
    "y_pred = []\n",
    "for i in range(remain):\n",
    "    X, y = stream.next_sample()\n",
    "    pred = clf.predict(X)\n",
    "    clf = clf.partial_fit(X, y)\n",
    "    if pred is not None:\n",
    "        y_test.append(y[0])\n",
    "        y_pred.append(pred[0])\n",
    "        j = j + 1\n",
    "        if y[0] == pred[0]:\n",
    "            corrects += 1\n",
    "    sample_count += 1"
   ]
  },
  {
   "cell_type": "code",
   "execution_count": 27,
   "metadata": {},
   "outputs": [],
   "source": [
    "model_acc = accuracy_score(y_test, y_pred)"
   ]
  },
  {
   "cell_type": "code",
   "execution_count": null,
   "metadata": {},
   "outputs": [],
   "source": [
    "f1_score = f1_score(y_test, y_pred)"
   ]
  },
  {
   "cell_type": "code",
   "execution_count": null,
   "metadata": {},
   "outputs": [],
   "source": [
    "recall_score = recall_score(y_test, y_pred)"
   ]
  },
  {
   "cell_type": "code",
   "execution_count": null,
   "metadata": {},
   "outputs": [],
   "source": [
    "precision_score = precision_score(y_test, y_pred)"
   ]
  },
  {
   "cell_type": "code",
   "execution_count": null,
   "metadata": {},
   "outputs": [],
   "source": [
    "kappa = cohen_kappa_score(y_test, y_pred)"
   ]
  },
  {
   "cell_type": "code",
   "execution_count": null,
   "metadata": {},
   "outputs": [],
   "source": [
    "print(\"Accuracy ({}): {:.2f}%\".format(\"oversampled\", model_acc))\n",
    "print(\"F1_score ({}): {:.2f}%\".format(\"oversampled\", f1_score))\n",
    "print(\"Recall_score ({}): {:.2f}%\".format(\"oversampled\", recall_score))\n",
    "print(\"Precision_score ({}): {:.2f}%\".format(\"oversampled\", precision_score))\n",
    "print(\"Kappa ({}): {:.2f}%\".format(\"oversampled\", kappa))\n",
    "cm = confusion_matrix(y_test, y_pred)\n",
    "clr = classification_report(y_test, y_pred)\n",
    "plt.figure(figsize=(8, 8))\n",
    "sns.heatmap(cm, annot=True, fmt='g',vmin = 0, cbar = False, cmap = 'Blues')\n",
    "plt.xlabel('Predicted')\n",
    "plt.ylabel('Actual')\n",
    "plt.title('Confusion Matrix')\n",
    "plt.show()\n",
    "print('Classificatione Report \\n..................\\n', clr)"
   ]
  },
  {
   "cell_type": "markdown",
   "metadata": {},
   "source": [
    "# Oversampled SAMKNNClassifier"
   ]
  },
  {
   "cell_type": "code",
   "execution_count": 32,
   "metadata": {},
   "outputs": [],
   "source": [
    "stream = FileStream(\"oversampled.csv\")"
   ]
  },
  {
   "cell_type": "code",
   "execution_count": 33,
   "metadata": {},
   "outputs": [],
   "source": [
    "clf = SAMKNNClassifier(n_neighbors=5, weighting='distance', max_window_size=5000,\n",
    "                              stm_size_option='maxACCApprox', use_ltm=True)"
   ]
  },
  {
   "cell_type": "code",
   "execution_count": 35,
   "metadata": {},
   "outputs": [],
   "source": [
    "X, y = stream.next_sample(200)\n",
    "clf = clf.partial_fit(X, y, classes=stream.target_values)"
   ]
  },
  {
   "cell_type": "code",
   "execution_count": 36,
   "metadata": {},
   "outputs": [],
   "source": [
    "remain = stream.n_remaining_samples()"
   ]
  },
  {
   "cell_type": "code",
   "execution_count": 37,
   "metadata": {},
   "outputs": [],
   "source": [
    "sample_count = 0\n",
    "corrects = 0\n",
    "j = 0\n",
    "y_test = []\n",
    "y_pred = []\n",
    "for i in range(remain):\n",
    "    X, y = stream.next_sample()\n",
    "    pred = clf.predict(X)\n",
    "    clf = clf.partial_fit(X, y)\n",
    "    if pred is not None:\n",
    "        y_test.append(y[0])\n",
    "        y_pred.append(pred[0])\n",
    "        j = j + 1\n",
    "        if y[0] == pred[0]:\n",
    "            corrects += 1\n",
    "    sample_count += 1"
   ]
  },
  {
   "cell_type": "code",
   "execution_count": 27,
   "metadata": {},
   "outputs": [],
   "source": [
    "model_acc = accuracy_score(y_test, y_pred)"
   ]
  },
  {
   "cell_type": "code",
   "execution_count": null,
   "metadata": {},
   "outputs": [],
   "source": [
    "f1_score = f1_score(y_test, y_pred)"
   ]
  },
  {
   "cell_type": "code",
   "execution_count": null,
   "metadata": {},
   "outputs": [],
   "source": [
    "recall_score = recall_score(y_test, y_pred)"
   ]
  },
  {
   "cell_type": "code",
   "execution_count": null,
   "metadata": {},
   "outputs": [],
   "source": [
    "precision_score = precision_score(y_test, y_pred)"
   ]
  },
  {
   "cell_type": "code",
   "execution_count": null,
   "metadata": {},
   "outputs": [],
   "source": [
    "kappa = cohen_kappa_score(y_test, y_pred)"
   ]
  },
  {
   "cell_type": "code",
   "execution_count": null,
   "metadata": {},
   "outputs": [],
   "source": [
    "print(\"Accuracy ({}): {:.2f}%\".format(\"oversampled\", model_acc))\n",
    "print(\"F1_score ({}): {:.2f}%\".format(\"oversampled\", f1_score))\n",
    "print(\"Recall_score ({}): {:.2f}%\".format(\"oversampled\", recall_score))\n",
    "print(\"Precision_score ({}): {:.2f}%\".format(\"oversampled\", precision_score))\n",
    "print(\"Kappa ({}): {:.2f}%\".format(\"oversampled\", kappa))\n",
    "cm = confusion_matrix(y_test, y_pred)\n",
    "clr = classification_report(y_test, y_pred)\n",
    "plt.figure(figsize=(8, 8))\n",
    "sns.heatmap(cm, annot=True, fmt='g',vmin = 0, cbar = False, cmap = 'Blues')\n",
    "plt.xlabel('Predicted')\n",
    "plt.ylabel('Actual')\n",
    "plt.title('Confusion Matrix')\n",
    "plt.show()\n",
    "print('Classificatione Report \\n..................\\n', clr)"
   ]
  },
  {
   "cell_type": "markdown",
   "metadata": {},
   "source": [
    "# Oversampled StreamingRandomPatchesClassifier"
   ]
  },
  {
   "cell_type": "code",
   "execution_count": 32,
   "metadata": {},
   "outputs": [],
   "source": [
    "stream = FileStream(\"oversampled.csv\")"
   ]
  },
  {
   "cell_type": "code",
   "execution_count": 33,
   "metadata": {},
   "outputs": [],
   "source": [
    "clf = StreamingRandomPatchesClassifier(random_state=1,\n",
    "                                             n_estimators=3)"
   ]
  },
  {
   "cell_type": "code",
   "execution_count": 35,
   "metadata": {},
   "outputs": [],
   "source": [
    "X, y = stream.next_sample(200)\n",
    "clf = clf.partial_fit(X, y, classes=stream.target_values)"
   ]
  },
  {
   "cell_type": "code",
   "execution_count": 36,
   "metadata": {},
   "outputs": [],
   "source": [
    "remain = stream.n_remaining_samples()"
   ]
  },
  {
   "cell_type": "code",
   "execution_count": 37,
   "metadata": {},
   "outputs": [],
   "source": [
    "sample_count = 0\n",
    "corrects = 0\n",
    "j = 0\n",
    "y_test = []\n",
    "y_pred = []\n",
    "for i in range(remain):\n",
    "    X, y = stream.next_sample()\n",
    "    pred = clf.predict(X)\n",
    "    clf = clf.partial_fit(X, y)\n",
    "    if pred is not None:\n",
    "        y_test.append(y[0])\n",
    "        y_pred.append(pred[0])\n",
    "        j = j + 1\n",
    "        if y[0] == pred[0]:\n",
    "            corrects += 1\n",
    "    sample_count += 1"
   ]
  },
  {
   "cell_type": "code",
   "execution_count": 27,
   "metadata": {},
   "outputs": [],
   "source": [
    "model_acc = accuracy_score(y_test, y_pred)"
   ]
  },
  {
   "cell_type": "code",
   "execution_count": null,
   "metadata": {},
   "outputs": [],
   "source": [
    "f1_score = f1_score(y_test, y_pred)"
   ]
  },
  {
   "cell_type": "code",
   "execution_count": null,
   "metadata": {},
   "outputs": [],
   "source": [
    "recall_score = recall_score(y_test, y_pred)"
   ]
  },
  {
   "cell_type": "code",
   "execution_count": null,
   "metadata": {},
   "outputs": [],
   "source": [
    "precision_score = precision_score(y_test, y_pred)"
   ]
  },
  {
   "cell_type": "code",
   "execution_count": null,
   "metadata": {},
   "outputs": [],
   "source": [
    "kappa = cohen_kappa_score(y_test, y_pred)"
   ]
  },
  {
   "cell_type": "code",
   "execution_count": null,
   "metadata": {},
   "outputs": [],
   "source": [
    "print(\"Accuracy ({}): {:.2f}%\".format(\"oversampled\", model_acc))\n",
    "print(\"F1_score ({}): {:.2f}%\".format(\"oversampled\", f1_score))\n",
    "print(\"Recall_score ({}): {:.2f}%\".format(\"oversampled\", recall_score))\n",
    "print(\"Precision_score ({}): {:.2f}%\".format(\"oversampled\", precision_score))\n",
    "print(\"Kappa ({}): {:.2f}%\".format(\"oversampled\", kappa))\n",
    "cm = confusion_matrix(y_test, y_pred)\n",
    "clr = classification_report(y_test, y_pred)\n",
    "plt.figure(figsize=(8, 8))\n",
    "sns.heatmap(cm, annot=True, fmt='g',vmin = 0, cbar = False, cmap = 'Blues')\n",
    "plt.xlabel('Predicted')\n",
    "plt.ylabel('Actual')\n",
    "plt.title('Confusion Matrix')\n",
    "plt.show()\n",
    "print('Classificatione Report \\n..................\\n', clr)"
   ]
  },
  {
   "cell_type": "markdown",
   "metadata": {},
   "source": [
    "# Undersampled OzaBaggingClassifier"
   ]
  },
  {
   "cell_type": "code",
   "execution_count": 32,
   "metadata": {},
   "outputs": [],
   "source": [
    "stream = FileStream(\"undersampled.csv\")"
   ]
  },
  {
   "cell_type": "code",
   "execution_count": 33,
   "metadata": {},
   "outputs": [],
   "source": [
    "clf = OzaBaggingClassifier(base_estimator=HoeffdingTreeClassifier(),\n",
    "                                n_estimators=10)"
   ]
  },
  {
   "cell_type": "code",
   "execution_count": 35,
   "metadata": {},
   "outputs": [],
   "source": [
    "X, y = stream.next_sample(200)\n",
    "clf = clf.partial_fit(X, y, classes=stream.target_values)"
   ]
  },
  {
   "cell_type": "code",
   "execution_count": 36,
   "metadata": {},
   "outputs": [],
   "source": [
    "remain = stream.n_remaining_samples()"
   ]
  },
  {
   "cell_type": "code",
   "execution_count": 37,
   "metadata": {},
   "outputs": [],
   "source": [
    "sample_count = 0\n",
    "corrects = 0\n",
    "j = 0\n",
    "y_test = []\n",
    "y_pred = []\n",
    "for i in range(remain):\n",
    "    X, y = stream.next_sample()\n",
    "    pred = clf.predict(X)\n",
    "    clf = clf.partial_fit(X, y)\n",
    "    if pred is not None:\n",
    "        y_test.append(y[0])\n",
    "        y_pred.append(pred[0])\n",
    "        j = j + 1\n",
    "        if y[0] == pred[0]:\n",
    "            corrects += 1\n",
    "    sample_count += 1"
   ]
  },
  {
   "cell_type": "code",
   "execution_count": 27,
   "metadata": {},
   "outputs": [],
   "source": [
    "model_acc = accuracy_score(y_test, y_pred)"
   ]
  },
  {
   "cell_type": "code",
   "execution_count": null,
   "metadata": {},
   "outputs": [],
   "source": [
    "f1_score = f1_score(y_test, y_pred)"
   ]
  },
  {
   "cell_type": "code",
   "execution_count": null,
   "metadata": {},
   "outputs": [],
   "source": [
    "recall_score = recall_score(y_test, y_pred)"
   ]
  },
  {
   "cell_type": "code",
   "execution_count": null,
   "metadata": {},
   "outputs": [],
   "source": [
    "precision_score = precision_score(y_test, y_pred)"
   ]
  },
  {
   "cell_type": "code",
   "execution_count": null,
   "metadata": {},
   "outputs": [],
   "source": [
    "kappa = cohen_kappa_score(y_test, y_pred)"
   ]
  },
  {
   "cell_type": "code",
   "execution_count": null,
   "metadata": {},
   "outputs": [],
   "source": [
    "print(\"Accuracy ({}): {:.2f}%\".format(\"undersampled\", model_acc))\n",
    "print(\"F1_score ({}): {:.2f}%\".format(\"undersampled\", f1_score))\n",
    "print(\"Recall_score ({}): {:.2f}%\".format(\"undersampled\", recall_score))\n",
    "print(\"Precision_score ({}): {:.2f}%\".format(\"undersampled\", precision_score))\n",
    "print(\"Kappa ({}): {:.2f}%\".format(\"undersampled\", kappa))\n",
    "cm = confusion_matrix(y_test, y_pred)\n",
    "clr = classification_report(y_test, y_pred)\n",
    "plt.figure(figsize=(8, 8))\n",
    "sns.heatmap(cm, annot=True, fmt='g',vmin = 0, cbar = False, cmap = 'Blues')\n",
    "plt.xlabel('Predicted')\n",
    "plt.ylabel('Actual')\n",
    "plt.title('Confusion Matrix')\n",
    "plt.show()\n",
    "print('Classificatione Report \\n..................\\n', clr)"
   ]
  },
  {
   "cell_type": "markdown",
   "metadata": {},
   "source": [
    "# Undersampled SAMKNNClassifier"
   ]
  },
  {
   "cell_type": "code",
   "execution_count": 32,
   "metadata": {},
   "outputs": [],
   "source": [
    "stream = FileStream(\"undersampled.csv\")"
   ]
  },
  {
   "cell_type": "code",
   "execution_count": 33,
   "metadata": {},
   "outputs": [],
   "source": [
    "clf = SAMKNNClassifier(n_neighbors=5, weighting='distance', max_window_size=5000,\n",
    "                              stm_size_option='maxACCApprox', use_ltm=True)"
   ]
  },
  {
   "cell_type": "code",
   "execution_count": 35,
   "metadata": {},
   "outputs": [],
   "source": [
    "X, y = stream.next_sample(200)\n",
    "clf = clf.partial_fit(X, y, classes=stream.target_values)"
   ]
  },
  {
   "cell_type": "code",
   "execution_count": 36,
   "metadata": {},
   "outputs": [],
   "source": [
    "remain = stream.n_remaining_samples()"
   ]
  },
  {
   "cell_type": "code",
   "execution_count": 37,
   "metadata": {},
   "outputs": [],
   "source": [
    "sample_count = 0\n",
    "corrects = 0\n",
    "j = 0\n",
    "y_test = []\n",
    "y_pred = []\n",
    "for i in range(remain):\n",
    "    X, y = stream.next_sample()\n",
    "    pred = clf.predict(X)\n",
    "    clf = clf.partial_fit(X, y)\n",
    "    if pred is not None:\n",
    "        y_test.append(y[0])\n",
    "        y_pred.append(pred[0])\n",
    "        j = j + 1\n",
    "        if y[0] == pred[0]:\n",
    "            corrects += 1\n",
    "    sample_count += 1"
   ]
  },
  {
   "cell_type": "code",
   "execution_count": 27,
   "metadata": {},
   "outputs": [],
   "source": [
    "model_acc = accuracy_score(y_test, y_pred)"
   ]
  },
  {
   "cell_type": "code",
   "execution_count": null,
   "metadata": {},
   "outputs": [],
   "source": [
    "f1_score = f1_score(y_test, y_pred)"
   ]
  },
  {
   "cell_type": "code",
   "execution_count": null,
   "metadata": {},
   "outputs": [],
   "source": [
    "recall_score = recall_score(y_test, y_pred)"
   ]
  },
  {
   "cell_type": "code",
   "execution_count": null,
   "metadata": {},
   "outputs": [],
   "source": [
    "precision_score = precision_score(y_test, y_pred)"
   ]
  },
  {
   "cell_type": "code",
   "execution_count": null,
   "metadata": {},
   "outputs": [],
   "source": [
    "kappa = cohen_kappa_score(y_test, y_pred)"
   ]
  },
  {
   "cell_type": "code",
   "execution_count": null,
   "metadata": {},
   "outputs": [],
   "source": [
    "print(\"Accuracy ({}): {:.2f}%\".format(\"undersampled\", model_acc))\n",
    "print(\"F1_score ({}): {:.2f}%\".format(\"undersampled\", f1_score))\n",
    "print(\"Recall_score ({}): {:.2f}%\".format(\"undersampled\", recall_score))\n",
    "print(\"Precision_score ({}): {:.2f}%\".format(\"undersampled\", precision_score))\n",
    "print(\"Kappa ({}): {:.2f}%\".format(\"undersampled\", kappa))\n",
    "cm = confusion_matrix(y_test, y_pred)\n",
    "clr = classification_report(y_test, y_pred)\n",
    "plt.figure(figsize=(8, 8))\n",
    "sns.heatmap(cm, annot=True, fmt='g',vmin = 0, cbar = False, cmap = 'Blues')\n",
    "plt.xlabel('Predicted')\n",
    "plt.ylabel('Actual')\n",
    "plt.title('Confusion Matrix')\n",
    "plt.show()\n",
    "print('Classificatione Report \\n..................\\n', clr)"
   ]
  },
  {
   "cell_type": "markdown",
   "metadata": {},
   "source": [
    "# Undersampled OzaBaggingClassifier"
   ]
  },
  {
   "cell_type": "code",
   "execution_count": 32,
   "metadata": {},
   "outputs": [],
   "source": [
    "stream = FileStream(\"undersampled.csv\")"
   ]
  },
  {
   "cell_type": "code",
   "execution_count": 33,
   "metadata": {},
   "outputs": [],
   "source": [
    "clf = StreamingRandomPatchesClassifier(random_state=1,\n",
    "                                             n_estimators=3)"
   ]
  },
  {
   "cell_type": "code",
   "execution_count": 35,
   "metadata": {},
   "outputs": [],
   "source": [
    "X, y = stream.next_sample(200)\n",
    "clf = clf.partial_fit(X, y, classes=stream.target_values)"
   ]
  },
  {
   "cell_type": "code",
   "execution_count": 36,
   "metadata": {},
   "outputs": [],
   "source": [
    "remain = stream.n_remaining_samples()"
   ]
  },
  {
   "cell_type": "code",
   "execution_count": 37,
   "metadata": {},
   "outputs": [],
   "source": [
    "sample_count = 0\n",
    "corrects = 0\n",
    "j = 0\n",
    "y_test = []\n",
    "y_pred = []\n",
    "for i in range(remain):\n",
    "    X, y = stream.next_sample()\n",
    "    pred = clf.predict(X)\n",
    "    clf = clf.partial_fit(X, y)\n",
    "    if pred is not None:\n",
    "        y_test.append(y[0])\n",
    "        y_pred.append(pred[0])\n",
    "        j = j + 1\n",
    "        if y[0] == pred[0]:\n",
    "            corrects += 1\n",
    "    sample_count += 1"
   ]
  },
  {
   "cell_type": "code",
   "execution_count": 27,
   "metadata": {},
   "outputs": [],
   "source": [
    "model_acc = accuracy_score(y_test, y_pred)"
   ]
  },
  {
   "cell_type": "code",
   "execution_count": null,
   "metadata": {},
   "outputs": [],
   "source": [
    "f1_score = f1_score(y_test, y_pred)"
   ]
  },
  {
   "cell_type": "code",
   "execution_count": null,
   "metadata": {},
   "outputs": [],
   "source": [
    "recall_score = recall_score(y_test, y_pred)"
   ]
  },
  {
   "cell_type": "code",
   "execution_count": null,
   "metadata": {},
   "outputs": [],
   "source": [
    "precision_score = precision_score(y_test, y_pred)"
   ]
  },
  {
   "cell_type": "code",
   "execution_count": null,
   "metadata": {},
   "outputs": [],
   "source": [
    "kappa = cohen_kappa_score(y_test, y_pred)"
   ]
  },
  {
   "cell_type": "code",
   "execution_count": null,
   "metadata": {},
   "outputs": [],
   "source": [
    "print(\"Accuracy ({}): {:.2f}%\".format(\"undersampled\", model_acc))\n",
    "print(\"F1_score ({}): {:.2f}%\".format(\"undersampled\", f1_score))\n",
    "print(\"Recall_score ({}): {:.2f}%\".format(\"undersampled\", recall_score))\n",
    "print(\"Precision_score ({}): {:.2f}%\".format(\"undersampled\", precision_score))\n",
    "print(\"Kappa ({}): {:.2f}%\".format(\"undersampled\", kappa))\n",
    "cm = confusion_matrix(y_test, y_pred)\n",
    "clr = classification_report(y_test, y_pred)\n",
    "plt.figure(figsize=(8, 8))\n",
    "sns.heatmap(cm, annot=True, fmt='g',vmin = 0, cbar = False, cmap = 'Blues')\n",
    "plt.xlabel('Predicted')\n",
    "plt.ylabel('Actual')\n",
    "plt.title('Confusion Matrix')\n",
    "plt.show()\n",
    "print('Classificatione Report \\n..................\\n', clr)"
   ]
  }
 ],
 "metadata": {
  "kernelspec": {
   "display_name": "Python 3",
   "language": "python",
   "name": "python3"
  },
  "language_info": {
   "codemirror_mode": {
    "name": "ipython",
    "version": 3
   },
   "file_extension": ".py",
   "mimetype": "text/x-python",
   "name": "python",
   "nbconvert_exporter": "python",
   "pygments_lexer": "ipython3",
   "version": "3.7.9"
  }
 },
 "nbformat": 4,
 "nbformat_minor": 4
}
